{
 "cells": [
  {
   "cell_type": "markdown",
   "metadata": {},
   "source": [
    "# Computing gradients and linear regression in PyTorch"
   ]
  },
  {
   "cell_type": "code",
   "execution_count": 1,
   "metadata": {},
   "outputs": [],
   "source": [
    "import torch\n",
    "import numpy as np\n",
    "import matplotlib.pyplot as plt"
   ]
  },
  {
   "cell_type": "markdown",
   "metadata": {},
   "source": [
    "## Example 1 -- Computing gradients\n",
    "In PyTorch keeps track of all operations to be able to compute gradients. Consider the function\n",
    "$$\n",
    "\\Gamma(\\theta_1,\\theta_2,\\theta_3,\\theta_4) = \\theta_1 \\theta_2+ \\theta_3 \\theta_4\n",
    "$$"
   ]
  },
  {
   "cell_type": "code",
   "execution_count": 15,
   "metadata": {},
   "outputs": [
    {
     "name": "stdout",
     "output_type": "stream",
     "text": [
      "Gamma's derivative w.r.t. theta_1 is 3.0\n"
     ]
    }
   ],
   "source": [
    "theta1 = torch.tensor(2, requires_grad=True, dtype=torch.float32)\n",
    "theta2 = torch.tensor(3, requires_grad=True, dtype=torch.float32)\n",
    "theta3 = torch.tensor(1, requires_grad=True, dtype=torch.float32)\n",
    "theta4 = torch.tensor(4, requires_grad=True, dtype=torch.float32)\n",
    "\n",
    "# Forward propagation\n",
    "z1 = theta1 * theta2\n",
    "z2 = theta3 * theta4\n",
    "f = z1 + z2\n",
    "f.backward() # Compute gradients\n",
    "\n",
    "print(f\"Gamma's derivative w.r.t. theta_1 is {theta1.grad}\")\n",
    "#print(f'theta3.grad: {theta3.grad}')"
   ]
  },
  {
   "cell_type": "markdown",
   "metadata": {},
   "source": [
    "$$\n",
    "\\frac{\\partial \\Gamma}{\\partial \\theta_1} (\\theta_1,\\theta_2,\\theta_3,\\theta_4) = \\theta_2 \n",
    "$$\n",
    "\n",
    "$$\n",
    "\\frac{\\partial \\Gamma}{\\partial \\theta_1} (2,3,1,4) = 3\n",
    "$$"
   ]
  },
  {
   "cell_type": "markdown",
   "metadata": {},
   "source": [
    "## Disable gradient computations with `no_grad()`\n",
    "Disabling gradient calculation is useful for inference, when you are sure that you will not call `Tensor.backward()`. It will reduce memory consumption for computations that would otherwise have `requires_grad=True`.\n"
   ]
  },
  {
   "cell_type": "code",
   "execution_count": 3,
   "metadata": {},
   "outputs": [
    {
     "name": "stdout",
     "output_type": "stream",
     "text": [
      "False\n",
      "True\n",
      "False\n",
      "False\n"
     ]
    }
   ],
   "source": [
    "x = torch.tensor([1.0], requires_grad=True) # Crucial use floats for this\n",
    "with torch.no_grad():\n",
    "    y = x * 2\n",
    "print(y.requires_grad)\n",
    "print(x.requires_grad)\n",
    "\n",
    "# To detach x from the computational graph, use the `.detach()` function\n",
    "x = x.detach()\n",
    "print(x.requires_grad)\n",
    "print(y.requires_grad)\n",
    "\n"
   ]
  },
  {
   "cell_type": "markdown",
   "metadata": {},
   "source": [
    "## Example 2 -- Training a one-dimensional linear regression model - Manual version\n",
    "### Generate data\n",
    "We generate data based on the very simple model \n",
    "$$ y = wx + b + \\epsilon, \\quad\\quad x\\sim \\mathcal{N}(0,2^2)\\text{ and }\\epsilon \\sim \\mathcal{N}(0,0.6^2)$$\n",
    "where $w=-1.5$ and $b=8.5$."
   ]
  },
  {
   "cell_type": "code",
   "execution_count": 4,
   "metadata": {},
   "outputs": [],
   "source": [
    "N = 100      # number of training data\n",
    "N = 100      # number of training data\n",
    "w_ref = -1.5 # We want to learn this parameter\n",
    "b_ref = 8.5  # We want to learn this parameter\n",
    "\n",
    "x = 2*torch.randn(N, dtype=torch.float)\n",
    "noise = 0.6*torch.randn(N, dtype=torch.float)\n",
    "y = w_ref*x + b_ref + noise\n"
   ]
  },
  {
   "cell_type": "markdown",
   "metadata": {},
   "source": [
    "### Create loss function ($l^2$-loss function)\n",
    "We use the mean squared error loss function. That is \n",
    "$$\\frac{1}{m} \\sum_{i=1}^{m} (\\hat{y}^{(i)} - y^{(i)})^2. $$"
   ]
  },
  {
   "cell_type": "code",
   "execution_count": 5,
   "metadata": {},
   "outputs": [],
   "source": [
    "def MSE_loss(prediction, target): # Mean squared error (MSE)\n",
    "    return (prediction-target).pow(2).mean()"
   ]
  },
  {
   "cell_type": "markdown",
   "metadata": {},
   "source": [
    "### Use gradient descent to find values for $w$ and $b$ using the data $x$ and $y$\n",
    "We choose the model $f_{w,b}(x) = wx +b$, and let $\\theta = (w,b)$\n",
    "$$\n",
    "\\Gamma(\\theta) = \\frac{1}{m}\\sum_{k=1}^{m} (wx^{(k)}+b - y^{(k)})^2\n",
    "$$\n",
    "\n",
    "Recall the gradient descent step\n",
    "$$\\theta^{(i+1)} = \\theta^{(i)} - \\alpha_i \\nabla \\Gamma(\\theta^{(i)}),$$\n",
    "where $\\alpha_i > 0$ is the learning rate (also called step length).\n"
   ]
  },
  {
   "cell_type": "code",
   "execution_count": 16,
   "metadata": {},
   "outputs": [
    {
     "name": "stdout",
     "output_type": "stream",
     "text": [
      "tensor(-1.4902, requires_grad=True)\n",
      "tensor(8.4482, requires_grad=True)\n",
      "tensor(0.3699, grad_fn=<MeanBackward0>)\n"
     ]
    }
   ],
   "source": [
    "w = torch.tensor(0, dtype=torch.float, requires_grad=True)\n",
    "b = torch.tensor(0, dtype=torch.float, requires_grad=True)\n",
    "\n",
    "number_of_epochs = 1000\n",
    "learning_rate = 0.01 # alpha\n",
    "for iter in range(number_of_epochs):\n",
    "    y_pred = w*x+b\n",
    "    loss = MSE_loss(y_pred,y)\n",
    "    loss.backward() # Compute gradients\n",
    "    # Update weights, without tracking the computations\n",
    "    with torch.no_grad():\n",
    "        w = w - learning_rate*w.grad\n",
    "        b = b - learning_rate*b.grad\n",
    "    # In the update step above, these have been set to False\n",
    "    w.requires_grad = True\n",
    "    b.requires_grad = True\n",
    "\n",
    "print(w)\n",
    "print(b)\n",
    "y_pred = w*x+b\n",
    "print(MSE_loss(y_pred,y))"
   ]
  },
  {
   "cell_type": "markdown",
   "metadata": {},
   "source": [
    "### Plot the solution"
   ]
  },
  {
   "cell_type": "code",
   "execution_count": 17,
   "metadata": {},
   "outputs": [
    {
     "data": {
      "image/png": "[encoded data removed]",
      "text/plain": [
       "<Figure size 576x576 with 1 Axes>"
      ]
     },
     "metadata": {
      "needs_background": "light"
     },
     "output_type": "display_data"
    }
   ],
   "source": [
    "x_equi = torch.linspace(-6,6,101)\n",
    "y_pred = w*x_equi + b\n",
    "\n",
    "plt.figure(figsize=(8,8))\n",
    "plt.plot(x_equi.detach().numpy(), y_pred.detach().numpy(), label='y=wx+b')\n",
    "plt.plot(x,y, 'x')\n",
    "plt.legend(fontsize=15)\n",
    "plt.show()\n"
   ]
  },
  {
   "cell_type": "markdown",
   "metadata": {},
   "source": [
    "## Example 3 -- Training a one-dimensional linear regression model - Automatic version\n",
    "### Create data loader object"
   ]
  },
  {
   "cell_type": "code",
   "execution_count": 8,
   "metadata": {},
   "outputs": [
    {
     "name": "stdout",
     "output_type": "stream",
     "text": [
      "torch.Size([100])\n"
     ]
    }
   ],
   "source": [
    "from torch.utils.data import TensorDataset\n",
    "from torch.utils.data import DataLoader\n",
    "import torch.nn as nn\n",
    "print(x.shape)\n",
    "\n",
    "\n",
    "x = x.view([-1,1]) # [Training_set_size, input_dimension]\n",
    "y = y.view([-1,1]) # [Training_set_size, output_dimension]\n",
    "\n",
    "train_ds = TensorDataset(x, y)\n",
    "\n",
    "batch_size = 10\n",
    "train_dl = DataLoader(train_ds, batch_size, shuffle=True)"
   ]
  },
  {
   "cell_type": "code",
   "execution_count": 23,
   "metadata": {},
   "outputs": [
    {
     "name": "stdout",
     "output_type": "stream",
     "text": [
      "0.weight Parameter containing:\n",
      "tensor([[-0.2707]], requires_grad=True)\n",
      "0.bias Parameter containing:\n",
      "tensor([0.2643], requires_grad=True)\n"
     ]
    }
   ],
   "source": [
    "\n",
    "\n",
    "# Build model\n",
    "input_size = 1\n",
    "output_size = 1\n",
    "\n",
    "model = nn.Sequential(\n",
    "    nn.Linear(input_size, output_size), # An affine map: Ax + b\n",
    ")\n",
    "\n",
    "#model = torch.nn.Sequential(\n",
    "#    torch.nn.Linear(in_features=input_size, out_features=5),\n",
    "#    torch.nn.ReLU(),\n",
    "#    torch.nn.Linear(in_features=5, out_features=10),\n",
    "#    torch.nn.ReLU(),\n",
    "#    torch.nn.Linear(in_features=10, out_features=10),\n",
    "#    torch.nn.ReLU(),\n",
    "#    torch.nn.Linear(in_features=10, out_features=output_size)\n",
    "#)\n",
    "\n",
    "# Print model parameters\n",
    "for name, param in model.named_parameters():\n",
    "    print(name, param)\n",
    "\n",
    "# Create loss function\n",
    "loss_fn = nn.MSELoss()\n",
    "\n",
    "\n",
    "# Choose optimization rule\n",
    "learning_rate = 0.01\n",
    "\n",
    "optimizer = torch.optim.SGD(model.parameters(), lr=learning_rate)\n"
   ]
  },
  {
   "cell_type": "markdown",
   "metadata": {},
   "source": [
    "Check out different optimizers here: https://pytorch.org/docs/stable/optim.html#algorithms"
   ]
  },
  {
   "cell_type": "markdown",
   "metadata": {},
   "source": [
    "### Train model"
   ]
  },
  {
   "cell_type": "code",
   "execution_count": 25,
   "metadata": {},
   "outputs": [
    {
     "name": "stdout",
     "output_type": "stream",
     "text": [
      "Epoch 0  Loss 47.5906\n",
      "Epoch 10  Loss 1.6463\n",
      "Epoch 20  Loss 0.3452\n",
      "Epoch 30  Loss 0.2924\n",
      "Epoch 40  Loss 0.3688\n",
      "Epoch 50  Loss 0.4406\n",
      "Epoch 60  Loss 0.2964\n",
      "Epoch 70  Loss 0.1894\n",
      "Epoch 80  Loss 0.5939\n",
      "Epoch 90  Loss 0.2582\n",
      "Epoch 100  Loss 0.2605\n",
      "Epoch 110  Loss 0.3625\n",
      "Epoch 120  Loss 0.2145\n",
      "Epoch 130  Loss 0.3908\n",
      "Epoch 140  Loss 0.4296\n",
      "Epoch 150  Loss 0.3807\n",
      "Epoch 160  Loss 0.1126\n",
      "Epoch 170  Loss 0.4629\n",
      "Epoch 180  Loss 0.0962\n",
      "Epoch 190  Loss 0.4679\n"
     ]
    }
   ],
   "source": [
    "log_epochs = 10\n",
    "num_epochs = 200\n",
    "\n",
    "for epoch in range(num_epochs):\n",
    "    for x_batch, y_batch in train_dl:\n",
    "        # 1. Generate predictions\n",
    "        pred = model(x_batch) \n",
    "\n",
    "        # 2. Calculate loss\n",
    "        loss = loss_fn(pred, y_batch)\n",
    "\n",
    "        # 3. Compute gradients\n",
    "        loss.backward()\n",
    "\n",
    "        # 4. Update parameters using gradients\n",
    "        optimizer.step()\n",
    "\n",
    "        # 5. Reset the gradients to zero\n",
    "        optimizer.zero_grad()\n",
    "        \n",
    "    if epoch % log_epochs== 0:\n",
    "        print(f'Epoch {epoch}  Loss {loss.item():.4f}')"
   ]
  },
  {
   "cell_type": "code",
   "execution_count": 26,
   "metadata": {},
   "outputs": [
    {
     "data": {
      "image/png": "[encoded data removed]",
      "text/plain": [
       "<Figure size 936x360 with 1 Axes>"
      ]
     },
     "metadata": {
      "needs_background": "light"
     },
     "output_type": "display_data"
    }
   ],
   "source": [
    "X_test = torch.linspace(-7, 7, steps=100, dtype=torch.float32).reshape(-1, 1)\n",
    "\n",
    "y_pred = model(X_test).detach().numpy()\n",
    "\n",
    "\n",
    "fig = plt.figure(figsize=(13, 5))\n",
    "ax = fig.add_subplot(1, 2, 1)\n",
    "plt.plot(X_test, y_pred,)\n",
    "plt.plot(x, y, 'x')\n",
    "plt.legend(['Linear Reg.', 'Training examples'], fontsize=15)\n",
    "ax.set_xlabel('x', size=15)\n",
    "ax.set_ylabel('y', size=15)\n",
    "ax.tick_params(axis='both', which='major', labelsize=15)\n",
    "\n",
    "plt.show()"
   ]
  },
  {
   "cell_type": "code",
   "execution_count": 12,
   "metadata": {},
   "outputs": [
    {
     "name": "stdout",
     "output_type": "stream",
     "text": [
      "0.weight Parameter containing:\n",
      "tensor([[-1.4931]], requires_grad=True)\n",
      "0.bias Parameter containing:\n",
      "tensor([8.4467], requires_grad=True)\n"
     ]
    }
   ],
   "source": [
    "for name, param in model.named_parameters():\n",
    "    print(name, param)"
   ]
  },
  {
   "cell_type": "code",
   "execution_count": null,
   "metadata": {},
   "outputs": [],
   "source": []
  },
  {
   "cell_type": "code",
   "execution_count": null,
   "metadata": {},
   "outputs": [],
   "source": [
    "\n"
   ]
  },
  {
   "cell_type": "code",
   "execution_count": null,
   "metadata": {},
   "outputs": [],
   "source": []
  }
 ],
 "metadata": {
  "kernelspec": {
   "display_name": "Python 3 (ipykernel)",
   "language": "python",
   "name": "python3"
  },
  "language_info": {
   "codemirror_mode": {
    "name": "ipython",
    "version": 3
   },
   "file_extension": ".py",
   "mimetype": "text/x-python",
   "name": "python",
   "nbconvert_exporter": "python",
   "pygments_lexer": "ipython3",
   "version": "3.9.5"
  }
 },
 "nbformat": 4,
 "nbformat_minor": 4
}
